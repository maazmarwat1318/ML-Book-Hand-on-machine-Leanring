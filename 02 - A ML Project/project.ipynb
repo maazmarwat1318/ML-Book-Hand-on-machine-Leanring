{
 "cells": [
  {
   "cell_type": "markdown",
   "metadata": {},
   "source": [
    "# Getting the data"
   ]
  },
  {
   "cell_type": "code",
   "execution_count": 7,
   "metadata": {},
   "outputs": [
    {
     "name": "stdout",
     "output_type": "stream",
     "text": [
      "Downloading housing data...\n",
      "Download complete.\n",
      "Data extracted to: ..\\datasets\\housing\n"
     ]
    },
    {
     "name": "stderr",
     "output_type": "stream",
     "text": [
      "C:\\Users\\maazm\\AppData\\Local\\Temp\\ipykernel_9716\\421192186.py:18: DeprecationWarning: Python 3.14 will, by default, filter extracted tar archives and reject files or modify their metadata. Use the filter argument to control this behavior.\n",
      "  housing_tgz.extractall(path=os.path.dirname(housing_path))\n"
     ]
    }
   ],
   "source": [
    "import os;\n",
    "import tarfile;\n",
    "import urllib;\n",
    "\n",
    "DOWNLOAD_URL = \"https://raw.githubusercontent.com/ageron/handson-ml2/master/\"\n",
    "HOUSING_PATH = os.path.join(\"..\", \"datasets\", \"housing\", \"housing.tgz\")\n",
    "HOSTING_URL = DOWNLOAD_URL + \"datasets/housing/housing.tgz\"\n",
    "def fetch_housing_data(housing_path=HOUSING_PATH, hosting_url=HOSTING_URL):\n",
    "    os.makedirs(os.path.dirname(housing_path), exist_ok=True)\n",
    "    if not os.path.exists(housing_path):\n",
    "        print(\"Downloading housing data...\")\n",
    "        urllib.request.urlretrieve(hosting_url, housing_path)\n",
    "        print(\"Download complete.\")\n",
    "    else:\n",
    "        print(\"Housing data already exists.\")\n",
    "    \n",
    "    with tarfile.open(housing_path) as housing_tgz:\n",
    "        housing_tgz.extractall(path=os.path.dirname(housing_path))\n",
    "        print(\"Data extracted to:\", os.path.dirname(housing_path))\n",
    "        housing_tgz.close()\n",
    "fetch_housing_data()"
   ]
  }
 ],
 "metadata": {
  "kernelspec": {
   "display_name": ".venv",
   "language": "python",
   "name": "python3"
  },
  "language_info": {
   "codemirror_mode": {
    "name": "ipython",
    "version": 3
   },
   "file_extension": ".py",
   "mimetype": "text/x-python",
   "name": "python",
   "nbconvert_exporter": "python",
   "pygments_lexer": "ipython3",
   "version": "3.13.2"
  }
 },
 "nbformat": 4,
 "nbformat_minor": 2
}
